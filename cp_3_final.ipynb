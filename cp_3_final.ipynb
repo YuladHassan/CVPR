{
 "cells": [
  {
   "cell_type": "code",
   "execution_count": null,
   "id": "68195e3a-ee36-441e-a1c3-8bdd9ba03c1e",
   "metadata": {},
   "outputs": [],
   "source": [
    "import tensorflow as tf\n",
    "from tensorflow import keras\n",
    "from tensorflow.keras import layers\n",
    "from tensorflow.keras.datasets import cifar10\n",
    "from tensorflow.keras.utils import to_categorical\n",
    "\n",
    "import os\n",
    "import numpy as np\n",
    "import matplotlib.pyplot as plt\n",
    "\n",
    "os.environ['TFF_CPP_MIN_LOG_LEVEL'] = '2'\n",
    "%matplotlib inline"
   ]
  },
  {
   "cell_type": "code",
   "execution_count": null,
   "id": "82a6538f-a754-4eb1-b1c9-098cae593979",
   "metadata": {},
   "outputs": [],
   "source": [
    "\n",
    "\n",
    "(X_train, Y_train), (X_test, Y_test) = cifar10.load_data()\n",
    "print(X_train.shape, Y_train.shape)\n",
    "print(X_test.shape, Y_test.shape)"
   ]
  },
  {
   "cell_type": "code",
   "execution_count": null,
   "id": "2c574a04-593c-4fbb-8817-d8fbb917c973",
   "metadata": {},
   "outputs": [],
   "source": [
    "class_names = ['airplane', 'automobile', 'bird', 'cat', 'deer', 'dog', 'frog', 'horse', 'ship', 'truck']"
   ]
  },
  {
   "cell_type": "code",
   "execution_count": null,
   "id": "860a76cc-185e-47c0-8670-4646310734a0",
   "metadata": {},
   "outputs": [],
   "source": [
    "plt.figure(figsize=(20,8))\n",
    "for i in range(50):\n",
    "    plt.subplot(5, 10, i+1)\n",
    "    plt.imshow(X_train[i])\n",
    "    plt.xticks([])\n",
    "    plt.yticks([])\n",
    "    plt.xlabel(class_names[Y_train[i][0]])\n",
    "    \n",
    "plt.show()"
   ]
  },
  {
   "cell_type": "code",
   "execution_count": null,
   "id": "d1160e22-2920-496d-832d-982eab2c0b99",
   "metadata": {},
   "outputs": [],
   "source": [
    "X_train, X_test = X_train / 255.0, X_test / 255.0\n",
    "num_classes = 10\n",
    "Y_train = keras.utils.to_categorical(Y_train, num_classes)\n",
    "Y_test = keras.utils.to_categorical(Y_test, num_classes)"
   ]
  },
  {
   "cell_type": "code",
   "execution_count": null,
   "id": "3d654e9f-45a6-4a83-9245-2f89eb8994a6",
   "metadata": {},
   "outputs": [],
   "source": [
    "model = keras.Sequential([\n",
    "    ## input layer\n",
    "    keras.Input(shape=(32,32,3)),\n",
    "    \n",
    "\n",
    "    keras.Input(shape=(32, 32, 3)),\n",
    "    layers.Conv2D(filters=32, kernel_size=(5, 5), activation='relu'),\n",
    "    layers.MaxPooling2D(pool_size=(2, 2)),\n",
    "    layers.Conv2D(filters=64, kernel_size=(3, 3), activation='relu'),\n",
    "    layers.MaxPooling2D(pool_size=(2, 2)),\n",
    "    layers.Conv2D(filters=128, kernel_size=(3, 3), activation='relu'),\n",
    "    layers.MaxPooling2D(pool_size=(2, 2)),\n",
    "    layers.Conv2D(filters=256, kernel_size=(3, 3), activation='relu'), \n",
    "    layers.MaxPooling2D(pool_size=(2, 2))\n",
    "    \n",
    "    layers.Flatten(),\n",
    "\n",
    "    layers.Dense(128, activation='relu'),\n",
    "    layers.Dropout(0.5),  # Adding dropout\n",
    "    layers.Dense(10, activation='softmax')\n",
    "])\n",
    "model.summary()"
   ]
  },
  {
   "cell_type": "code",
   "execution_count": null,
   "id": "bfa14826-0ac9-4258-895d-d999b4849deb",
   "metadata": {},
   "outputs": [],
   "source": [
    "optimizers = ['adam', 'rmsprop', 'sgd']\n",
    "loss_functions = ['sparse_categorical_crossentropy', 'categorical_crossentropy']\n",
    "\n",
    "for optimizer in optimizers:\n",
    "    for loss_func in loss_functions:\n",
    "        model.compile(optimizer=optimizer, loss=loss_func, metrics=['accuracy'])\n",
    "        print(f\"\\nTraining with optimizer: {optimizer}, Loss function: {loss_func}\")\n",
    "        \n",
    "        history = model.fit(\n",
    "            x=X_train, y=Y_train,\n",
    "            epochs=20,\n",
    "            validation_split=0.2,\n",
    "            batch_size=32\n",
    "        )"
   ]
  },
  {
   "cell_type": "code",
   "execution_count": null,
   "id": "6ddb40de-470e-4615-87d4-2963255f2512",
   "metadata": {},
   "outputs": [],
   "source": [
    "h = model.fit(x=X_train, y=Y_train, epochs=20\n",
    "              , validation_split=0.2, batch_size=32)"
   ]
  },
  {
   "cell_type": "code",
   "execution_count": null,
   "id": "d49aa091-f054-4e84-9b09-f01c9c22efec",
   "metadata": {},
   "outputs": [],
   "source": [
    "#Here I have added an extra convolution layer with a filter value of 256 and increased the epoch value to 20 so that  I can achieve maximum accuracy and lowest loss possible\n",
    "# Unfortunately I am facing problems while using categorical_crossentropy as a loss function .\n",
    "# due to time shortage I only managed sparse categorical crossentropy"
   ]
  }
 ],
 "metadata": {
  "kernelspec": {
   "display_name": "Python 3 (ipykernel)",
   "language": "python",
   "name": "python3"
  },
  "language_info": {
   "codemirror_mode": {
    "name": "ipython",
    "version": 3
   },
   "file_extension": ".py",
   "mimetype": "text/x-python",
   "name": "python",
   "nbconvert_exporter": "python",
   "pygments_lexer": "ipython3",
   "version": "3.10.0"
  }
 },
 "nbformat": 4,
 "nbformat_minor": 5
}
